{
 "cells": [
  {
   "cell_type": "code",
   "execution_count": 4,
   "id": "7cfc6b30",
   "metadata": {
    "scrolled": true
   },
   "outputs": [
    {
     "data": {
      "application/vnd.microsoft.datawrangler.viewer.v0+json": {
       "columns": [
        {
         "name": "index",
         "rawType": "int64",
         "type": "integer"
        },
        {
         "name": "Blue Mastery 1",
         "rawType": "int64",
         "type": "integer"
        },
        {
         "name": "Blue Mastery 2",
         "rawType": "int64",
         "type": "integer"
        },
        {
         "name": "Blue Mastery 3",
         "rawType": "int64",
         "type": "integer"
        },
        {
         "name": "Blue Mastery 4",
         "rawType": "int64",
         "type": "integer"
        },
        {
         "name": "Blue Mastery 5",
         "rawType": "int64",
         "type": "integer"
        },
        {
         "name": "Blue Masteries Avg",
         "rawType": "float64",
         "type": "float"
        },
        {
         "name": "Blue Masteries Median",
         "rawType": "float64",
         "type": "float"
        },
        {
         "name": "Blue Masteries Kurtorsis",
         "rawType": "float64",
         "type": "float"
        },
        {
         "name": "Blue Masteries Skewness",
         "rawType": "float64",
         "type": "float"
        },
        {
         "name": "Blue Masteries Std",
         "rawType": "float64",
         "type": "float"
        },
        {
         "name": "Blue Masteries Variance",
         "rawType": "float64",
         "type": "float"
        },
        {
         "name": "Blue Winrate 1",
         "rawType": "float64",
         "type": "float"
        },
        {
         "name": "Blue Winrate 2",
         "rawType": "float64",
         "type": "float"
        },
        {
         "name": "Blue Winrate 3",
         "rawType": "float64",
         "type": "float"
        },
        {
         "name": "Blue Winrate 4",
         "rawType": "float64",
         "type": "float"
        },
        {
         "name": "Blue Winrate 5",
         "rawType": "float64",
         "type": "float"
        },
        {
         "name": "Blue Winrates Avg",
         "rawType": "float64",
         "type": "float"
        },
        {
         "name": "Blue Winrates Median",
         "rawType": "float64",
         "type": "float"
        },
        {
         "name": "Blue Winrates Kurtorsis",
         "rawType": "float64",
         "type": "float"
        },
        {
         "name": "Blue Winrates Skewness",
         "rawType": "float64",
         "type": "float"
        },
        {
         "name": "Blue Winrates Std",
         "rawType": "float64",
         "type": "float"
        },
        {
         "name": "Blue Winrates Variance",
         "rawType": "float64",
         "type": "float"
        },
        {
         "name": "Red Mastery 1",
         "rawType": "int64",
         "type": "integer"
        },
        {
         "name": "Red Mastery 2",
         "rawType": "int64",
         "type": "integer"
        },
        {
         "name": "Red Mastery 3",
         "rawType": "int64",
         "type": "integer"
        },
        {
         "name": "Red Mastery 4",
         "rawType": "int64",
         "type": "integer"
        },
        {
         "name": "Red Mastery 5",
         "rawType": "int64",
         "type": "integer"
        },
        {
         "name": "Red Masteries Avg",
         "rawType": "float64",
         "type": "float"
        },
        {
         "name": "Red Masteries Median",
         "rawType": "float64",
         "type": "float"
        },
        {
         "name": "Red Masteries Kurtorsis",
         "rawType": "float64",
         "type": "float"
        },
        {
         "name": "Red Masteries Skewness",
         "rawType": "float64",
         "type": "float"
        },
        {
         "name": "Red Masteries Std",
         "rawType": "float64",
         "type": "float"
        },
        {
         "name": "Red Masteries Variance",
         "rawType": "float64",
         "type": "float"
        },
        {
         "name": "Red Winrate 1",
         "rawType": "float64",
         "type": "float"
        },
        {
         "name": "Red Winrate 2",
         "rawType": "float64",
         "type": "float"
        },
        {
         "name": "Red Winrate 3",
         "rawType": "float64",
         "type": "float"
        },
        {
         "name": "Red Winrate 4",
         "rawType": "float64",
         "type": "float"
        },
        {
         "name": "Red Winrate 5",
         "rawType": "float64",
         "type": "float"
        },
        {
         "name": "Red Winrates Avg",
         "rawType": "float64",
         "type": "float"
        },
        {
         "name": "Red Winrates Median",
         "rawType": "float64",
         "type": "float"
        },
        {
         "name": "Red Winrates Kurtorsis",
         "rawType": "float64",
         "type": "float"
        },
        {
         "name": "Red Winrates Skewness",
         "rawType": "float64",
         "type": "float"
        },
        {
         "name": "Red Winrates Std",
         "rawType": "float64",
         "type": "float"
        },
        {
         "name": "Red Winrates Variance",
         "rawType": "float64",
         "type": "float"
        },
        {
         "name": "Blue Won",
         "rawType": "int64",
         "type": "integer"
        }
       ],
       "conversionMethod": "pd.DataFrame",
       "ref": "1bdfbede-ffb2-4501-8f97-e669fdf99f05",
       "rows": [
        [
         "0",
         "302361",
         "32548",
         "137831",
         "42344",
         "2594552",
         "621927.2",
         "137831.0",
         "4.804286377468026",
         "2.183942705989929",
         "991060.5244612258",
         "982200963145.36",
         "0.4464285714285714",
         "0.5882352941176471",
         "0.2307692307692307",
         "0.4285714285714285",
         "0.5064102564102564",
         "0.4400829562594269",
         "0.4464285714285714",
         "1.7867390843738296",
         "-1.0057794278406758",
         "0.1186030722522195",
         "0.0140666887476652",
         "161323",
         "69486",
         "860782",
         "5651",
         "760456",
         "371539.6",
         "161323.0",
         "-3.0230679355840797",
         "0.5602290310596598",
         "363294.909390484",
         "131983191189.04",
         "0.5522388059701493",
         "0.6",
         "0.4857142857142857",
         "0.3333333333333332",
         "0.5883838383838383",
         "0.5119340526803213",
         "0.5522388059701493",
         "1.7550266381659403",
         "-1.4411615960973314",
         "0.0977858344344361",
         "0.0095620694160389",
         "0"
        ],
        [
         "1",
         "244724",
         "55894",
         "166393",
         "151398",
         "17928",
         "127267.4",
         "151398.0",
         "-1.3369649217205293",
         "0.0131645506344595",
         "81189.18392889536",
         "6591683587.040001",
         "0.5454545454545454",
         "0.625",
         "0.3989361702127659",
         "0.5",
         "0.0",
         "0.4138781431334623",
         "0.5",
         "2.9264103385945406",
         "-1.6520677083219906",
         "0.2194630457471326",
         "0.048164028448608",
         "33130",
         "9301",
         "415872",
         "82639",
         "15557",
         "111299.8",
         "33130.0",
         "4.422881427922964",
         "2.08903337480402",
         "154445.2155651317",
         "23853324610.96",
         "0.7142857142857143",
         "0.5384615384615384",
         "0.5511363636363636",
         "0.6415094339622641",
         "0.5",
         "0.5890786100691761",
         "0.5511363636363636",
         "-0.950929344546214",
         "0.7660317416649389",
         "0.0779262613176795",
         "0.0060725022029512",
         "0"
        ],
        [
         "2",
         "1370461",
         "165699",
         "328554",
         "11922",
         "64623",
         "388251.8",
         "165699.0",
         "4.0663657209767",
         "1.99132407656286",
         "502829.6346149061",
         "252837641446.96",
         "0.5311284046692607",
         "0.543859649122807",
         "0.4878048780487805",
         "0.4444444444444444",
         "0.4333333333333333",
         "0.4881141419237252",
         "0.4878048780487805",
         "-2.714615983530692",
         "0.0175008936064268",
         "0.0444204085625475",
         "0.0019731726968636",
         "24674",
         "69412",
         "24297",
         "197578",
         "1344271",
         "332046.4",
         "69412.0",
         "4.679175538952802",
         "2.153192672198477",
         "510067.58473543485",
         "260168940997.84",
         "0.7333333333333333",
         "0.4705882352941176",
         "0.631578947368421",
         "0.5357142857142857",
         "0.5294117647058824",
         "0.5801253132832079",
         "0.5357142857142857",
         "-0.1714387569448257",
         "0.8322535703305709",
         "0.0923718016514509",
         "0.008532549740335",
         "0"
        ],
        [
         "3",
         "859153",
         "8207",
         "152833",
         "30736",
         "94462",
         "229078.2",
         "94462.0",
         "4.494974145065102",
         "2.098719742424064",
         "319077.67728589225",
         "101810564142.16",
         "0.594",
         "0.5833333333333334",
         "0.5833333333333334",
         "0.5",
         "0.6111111111111112",
         "0.5743555555555556",
         "0.5833333333333334",
         "3.8040034295105913",
         "-1.835360837059765",
         "0.0385404325127729",
         "0.0014853649382716",
         "7376",
         "19807",
         "249551",
         "1914694",
         "2021545",
         "842594.6",
         "249551.0",
         "-3.24972252904008",
         "0.5761330822350282",
         "923644.025059568",
         "853118285028.24",
         "0.0",
         "0.5",
         "0.1428571428571428",
         "0.5157894736842106",
         "0.5236318407960199",
         "0.3364556914674746",
         "0.5",
         "-2.252574646473776",
         "-0.7891605499808829",
         "0.2211900031736908",
         "0.0489250175039773",
         "1"
        ],
        [
         "4",
         "295938",
         "326564",
         "1812645",
         "64742",
         "83541",
         "516686.0",
         "295938.0",
         "4.480465752495715",
         "2.0901172356828277",
         "656696.8485123102",
         "431250750846.0",
         "0.6120218579234973",
         "0.65625",
         "0.5481335952848723",
         "0.6666666666666665",
         "0.5609756097560976",
         "0.6088095459262267",
         "0.6120218579234973",
         "-2.7691375660569126",
         "-0.0865699121837111",
         "0.0481207200428827",
         "0.0023156036974454",
         "1188906",
         "26363",
         "1078694",
         "134633",
         "36091",
         "492937.4",
         "134633.0",
         "-3.187286202168308",
         "0.6054304481028939",
         "525788.0625531926",
         "276453086723.44",
         "0.4733727810650887",
         "0.6842105263157895",
         "0.565284178187404",
         "0.6",
         "0.4166666666666667",
         "0.5479068304469898",
         "0.565284178187404",
         "-1.0914922760895522",
         "0.0015758107302914",
         "0.0942058099507815",
         "0.0088747346284827",
         "1"
        ]
       ],
       "shape": {
        "columns": 45,
        "rows": 5
       }
      },
      "text/html": [
       "<div>\n",
       "<style scoped>\n",
       "    .dataframe tbody tr th:only-of-type {\n",
       "        vertical-align: middle;\n",
       "    }\n",
       "\n",
       "    .dataframe tbody tr th {\n",
       "        vertical-align: top;\n",
       "    }\n",
       "\n",
       "    .dataframe thead th {\n",
       "        text-align: right;\n",
       "    }\n",
       "</style>\n",
       "<table border=\"1\" class=\"dataframe\">\n",
       "  <thead>\n",
       "    <tr style=\"text-align: right;\">\n",
       "      <th></th>\n",
       "      <th>Blue Mastery 1</th>\n",
       "      <th>Blue Mastery 2</th>\n",
       "      <th>Blue Mastery 3</th>\n",
       "      <th>Blue Mastery 4</th>\n",
       "      <th>Blue Mastery 5</th>\n",
       "      <th>Blue Masteries Avg</th>\n",
       "      <th>Blue Masteries Median</th>\n",
       "      <th>Blue Masteries Kurtorsis</th>\n",
       "      <th>Blue Masteries Skewness</th>\n",
       "      <th>Blue Masteries Std</th>\n",
       "      <th>...</th>\n",
       "      <th>Red Winrate 3</th>\n",
       "      <th>Red Winrate 4</th>\n",
       "      <th>Red Winrate 5</th>\n",
       "      <th>Red Winrates Avg</th>\n",
       "      <th>Red Winrates Median</th>\n",
       "      <th>Red Winrates Kurtorsis</th>\n",
       "      <th>Red Winrates Skewness</th>\n",
       "      <th>Red Winrates Std</th>\n",
       "      <th>Red Winrates Variance</th>\n",
       "      <th>Blue Won</th>\n",
       "    </tr>\n",
       "  </thead>\n",
       "  <tbody>\n",
       "    <tr>\n",
       "      <th>0</th>\n",
       "      <td>302361</td>\n",
       "      <td>32548</td>\n",
       "      <td>137831</td>\n",
       "      <td>42344</td>\n",
       "      <td>2594552</td>\n",
       "      <td>621927.2</td>\n",
       "      <td>137831.0</td>\n",
       "      <td>4.804286</td>\n",
       "      <td>2.183943</td>\n",
       "      <td>991060.524461</td>\n",
       "      <td>...</td>\n",
       "      <td>0.485714</td>\n",
       "      <td>0.333333</td>\n",
       "      <td>0.588384</td>\n",
       "      <td>0.511934</td>\n",
       "      <td>0.552239</td>\n",
       "      <td>1.755027</td>\n",
       "      <td>-1.441162</td>\n",
       "      <td>0.097786</td>\n",
       "      <td>0.009562</td>\n",
       "      <td>0</td>\n",
       "    </tr>\n",
       "    <tr>\n",
       "      <th>1</th>\n",
       "      <td>244724</td>\n",
       "      <td>55894</td>\n",
       "      <td>166393</td>\n",
       "      <td>151398</td>\n",
       "      <td>17928</td>\n",
       "      <td>127267.4</td>\n",
       "      <td>151398.0</td>\n",
       "      <td>-1.336965</td>\n",
       "      <td>0.013165</td>\n",
       "      <td>81189.183929</td>\n",
       "      <td>...</td>\n",
       "      <td>0.551136</td>\n",
       "      <td>0.641509</td>\n",
       "      <td>0.500000</td>\n",
       "      <td>0.589079</td>\n",
       "      <td>0.551136</td>\n",
       "      <td>-0.950929</td>\n",
       "      <td>0.766032</td>\n",
       "      <td>0.077926</td>\n",
       "      <td>0.006073</td>\n",
       "      <td>0</td>\n",
       "    </tr>\n",
       "    <tr>\n",
       "      <th>2</th>\n",
       "      <td>1370461</td>\n",
       "      <td>165699</td>\n",
       "      <td>328554</td>\n",
       "      <td>11922</td>\n",
       "      <td>64623</td>\n",
       "      <td>388251.8</td>\n",
       "      <td>165699.0</td>\n",
       "      <td>4.066366</td>\n",
       "      <td>1.991324</td>\n",
       "      <td>502829.634615</td>\n",
       "      <td>...</td>\n",
       "      <td>0.631579</td>\n",
       "      <td>0.535714</td>\n",
       "      <td>0.529412</td>\n",
       "      <td>0.580125</td>\n",
       "      <td>0.535714</td>\n",
       "      <td>-0.171439</td>\n",
       "      <td>0.832254</td>\n",
       "      <td>0.092372</td>\n",
       "      <td>0.008533</td>\n",
       "      <td>0</td>\n",
       "    </tr>\n",
       "    <tr>\n",
       "      <th>3</th>\n",
       "      <td>859153</td>\n",
       "      <td>8207</td>\n",
       "      <td>152833</td>\n",
       "      <td>30736</td>\n",
       "      <td>94462</td>\n",
       "      <td>229078.2</td>\n",
       "      <td>94462.0</td>\n",
       "      <td>4.494974</td>\n",
       "      <td>2.098720</td>\n",
       "      <td>319077.677286</td>\n",
       "      <td>...</td>\n",
       "      <td>0.142857</td>\n",
       "      <td>0.515789</td>\n",
       "      <td>0.523632</td>\n",
       "      <td>0.336456</td>\n",
       "      <td>0.500000</td>\n",
       "      <td>-2.252575</td>\n",
       "      <td>-0.789161</td>\n",
       "      <td>0.221190</td>\n",
       "      <td>0.048925</td>\n",
       "      <td>1</td>\n",
       "    </tr>\n",
       "    <tr>\n",
       "      <th>4</th>\n",
       "      <td>295938</td>\n",
       "      <td>326564</td>\n",
       "      <td>1812645</td>\n",
       "      <td>64742</td>\n",
       "      <td>83541</td>\n",
       "      <td>516686.0</td>\n",
       "      <td>295938.0</td>\n",
       "      <td>4.480466</td>\n",
       "      <td>2.090117</td>\n",
       "      <td>656696.848512</td>\n",
       "      <td>...</td>\n",
       "      <td>0.565284</td>\n",
       "      <td>0.600000</td>\n",
       "      <td>0.416667</td>\n",
       "      <td>0.547907</td>\n",
       "      <td>0.565284</td>\n",
       "      <td>-1.091492</td>\n",
       "      <td>0.001576</td>\n",
       "      <td>0.094206</td>\n",
       "      <td>0.008875</td>\n",
       "      <td>1</td>\n",
       "    </tr>\n",
       "  </tbody>\n",
       "</table>\n",
       "<p>5 rows × 45 columns</p>\n",
       "</div>"
      ],
      "text/plain": [
       "   Blue Mastery 1  Blue Mastery 2  Blue Mastery 3  Blue Mastery 4  \\\n",
       "0          302361           32548          137831           42344   \n",
       "1          244724           55894          166393          151398   \n",
       "2         1370461          165699          328554           11922   \n",
       "3          859153            8207          152833           30736   \n",
       "4          295938          326564         1812645           64742   \n",
       "\n",
       "   Blue Mastery 5  Blue Masteries Avg  Blue Masteries Median  \\\n",
       "0         2594552            621927.2               137831.0   \n",
       "1           17928            127267.4               151398.0   \n",
       "2           64623            388251.8               165699.0   \n",
       "3           94462            229078.2                94462.0   \n",
       "4           83541            516686.0               295938.0   \n",
       "\n",
       "   Blue Masteries Kurtorsis  Blue Masteries Skewness  Blue Masteries Std  ...  \\\n",
       "0                  4.804286                 2.183943       991060.524461  ...   \n",
       "1                 -1.336965                 0.013165        81189.183929  ...   \n",
       "2                  4.066366                 1.991324       502829.634615  ...   \n",
       "3                  4.494974                 2.098720       319077.677286  ...   \n",
       "4                  4.480466                 2.090117       656696.848512  ...   \n",
       "\n",
       "   Red Winrate 3  Red Winrate 4  Red Winrate 5  Red Winrates Avg  \\\n",
       "0       0.485714       0.333333       0.588384          0.511934   \n",
       "1       0.551136       0.641509       0.500000          0.589079   \n",
       "2       0.631579       0.535714       0.529412          0.580125   \n",
       "3       0.142857       0.515789       0.523632          0.336456   \n",
       "4       0.565284       0.600000       0.416667          0.547907   \n",
       "\n",
       "   Red Winrates Median  Red Winrates Kurtorsis  Red Winrates Skewness  \\\n",
       "0             0.552239                1.755027              -1.441162   \n",
       "1             0.551136               -0.950929               0.766032   \n",
       "2             0.535714               -0.171439               0.832254   \n",
       "3             0.500000               -2.252575              -0.789161   \n",
       "4             0.565284               -1.091492               0.001576   \n",
       "\n",
       "   Red Winrates Std  Red Winrates Variance  Blue Won  \n",
       "0          0.097786               0.009562         0  \n",
       "1          0.077926               0.006073         0  \n",
       "2          0.092372               0.008533         0  \n",
       "3          0.221190               0.048925         1  \n",
       "4          0.094206               0.008875         1  \n",
       "\n",
       "[5 rows x 45 columns]"
      ]
     },
     "execution_count": 4,
     "metadata": {},
     "output_type": "execute_result"
    }
   ],
   "source": [
    "import pandas as pd\n",
    "import numpy as np\n",
    "from sklearn.ensemble import GradientBoostingClassifier\n",
    "from sklearn.model_selection import StratifiedKFold\n",
    "from sklearn.metrics import accuracy_score, confusion_matrix, classification_report\n",
    "from scipy.stats import sem\n",
    "import joblib\n",
    "\n",
    "lan_df = pd.read_csv(\"/Users/dhanv/Desktop/New folder (9)/New folder (7)/lan_dataset.csv\")\n",
    "na_df = pd.read_csv(\"/Users/dhanv/Desktop/New folder (9)/New folder (7)/na_dataset.csv\")\n",
    "lan_df.head()\n"
   ]
  },
  {
   "cell_type": "code",
   "execution_count": 7,
   "id": "244c6313",
   "metadata": {},
   "outputs": [
    {
     "name": "stdout",
     "output_type": "stream",
     "text": [
      "Dataset shape: X=(17010, 44), Y=(17010,)\n"
     ]
    }
   ],
   "source": [
    "# Combine and shuffle datasets\n",
    "frames = [lan_df, na_df]\n",
    "result = pd.concat(frames)\n",
    "dataset = result.to_numpy()\n",
    "np.random.shuffle(dataset)\n",
    "\n",
    "# Split features and target\n",
    "X = dataset[:, :44]\n",
    "Y = dataset[:, 44]\n",
    "\n",
    "print(f\"Dataset shape: X={X.shape}, Y={Y.shape}\")"
   ]
  },
  {
   "cell_type": "markdown",
   "id": "fe770d41",
   "metadata": {},
   "source": [
    "Let's define our model"
   ]
  },
  {
   "cell_type": "code",
   "execution_count": 8,
   "id": "a0d38a5f",
   "metadata": {},
   "outputs": [],
   "source": [
    "model = GradientBoostingClassifier(n_estimators=55, learning_rate=0.14)"
   ]
  },
  {
   "cell_type": "markdown",
   "id": "99c2df64",
   "metadata": {},
   "source": [
    "Let's test it with Stratified K Fold validation"
   ]
  },
  {
   "cell_type": "code",
   "execution_count": 9,
   "id": "76e13f7e",
   "metadata": {},
   "outputs": [
    {
     "name": "stdout",
     "output_type": "stream",
     "text": [
      "List of possible accuracy: [88.94767783656673, 89.7119341563786, 90.29982363315696, 90.24103468547912, 90.06466784244563, 88.47736625514403, 88.77131099353322, 89.94708994708994, 89.00646678424457, 88.47736625514403]\n",
      "\n",
      "Maximum Accuracy: 90.30%\n",
      "\n",
      "Minimum Accuracy: 88.48%\n",
      "\n",
      "Overall Accuracy: 89.39%\n",
      "\n",
      "Standard Deviation is: 0.69%\n",
      "\n",
      "Standard Error is: 0.23%\n"
     ]
    }
   ],
   "source": [
    "from sklearn.model_selection import StratifiedKFold\n",
    "from sklearn.metrics import accuracy_score\n",
    "from scipy.stats import sem\n",
    "\n",
    "accuracy = []\n",
    "\n",
    "# Create StratifiedKFold object.\n",
    "skf = StratifiedKFold(n_splits=10, random_state=None)\n",
    "\n",
    "for train_index, test_index in skf.split(X, Y):\n",
    "    x_train_fold, x_test_fold = X[train_index], X[test_index]\n",
    "    y_train_fold, y_test_fold = Y[train_index], Y[test_index]\n",
    "\n",
    "    model.fit(x_train_fold, y_train_fold)\n",
    "    prediction = model.predict(x_test_fold)\n",
    "    score = accuracy_score(prediction, y_test_fold)\n",
    "    accuracy.append(score * 100)\n",
    "\n",
    "\n",
    "# Print the output.\n",
    "print(\"List of possible accuracy: {}\".format(accuracy))\n",
    "print(\"\\nMaximum Accuracy: {:.2f}%\".format(max(accuracy)))\n",
    "print(\"\\nMinimum Accuracy: {:.2f}%\".format(min(accuracy)))\n",
    "print(\"\\nOverall Accuracy: {:.2f}%\".format(np.mean(accuracy)))\n",
    "print(\"\\nStandard Deviation is: {:.2f}%\".format(np.std(accuracy)))\n",
    "print(\"\\nStandard Error is: {:.2f}%\".format(sem(accuracy)))\n"
   ]
  },
  {
   "cell_type": "markdown",
   "id": "f052d2c1",
   "metadata": {},
   "source": [
    "Now let's divide the datasets from LAN and NA to a final training and testing."
   ]
  },
  {
   "cell_type": "code",
   "execution_count": 10,
   "id": "ca3351c9",
   "metadata": {},
   "outputs": [
    {
     "name": "stdout",
     "output_type": "stream",
     "text": [
      "x_train size: 12458\n",
      "y_train size: 12458\n",
      "x_test size: 4552\n",
      "y_test size: 4552\n",
      "Accuracy: 88.58%\n",
      "Confusion Matrix:\n",
      "[[1987  246]\n",
      " [ 274 2045]]\n",
      "Classification Report:\n",
      "              precision    recall  f1-score   support\n",
      "\n",
      "         0.0       0.88      0.89      0.88      2233\n",
      "         1.0       0.89      0.88      0.89      2319\n",
      "\n",
      "    accuracy                           0.89      4552\n",
      "   macro avg       0.89      0.89      0.89      4552\n",
      "weighted avg       0.89      0.89      0.89      4552\n",
      "\n"
     ]
    }
   ],
   "source": [
    "from sklearn.metrics import confusion_matrix, classification_report\n",
    "\n",
    "lan_dataset = lan_df.to_numpy()\n",
    "na_dataset = na_df.to_numpy()\n",
    "\n",
    "np.random.shuffle(lan_dataset)\n",
    "np.random.shuffle(na_dataset)\n",
    "\n",
    "x_train = lan_dataset[:, 0:44]\n",
    "y_train = lan_dataset[:, 44]\n",
    "\n",
    "x_test = na_dataset[:, 0:44]\n",
    "y_test = na_dataset[:, 44]\n",
    "\n",
    "\n",
    "print(f\"x_train size: {len(x_train)}\")\n",
    "print(f\"y_train size: {len(y_train)}\")\n",
    "\n",
    "\n",
    "print(f\"x_test size: {len(x_test)}\")\n",
    "print(f\"y_test size: {len(y_test)}\")\n",
    "\n",
    "model_final_test = GradientBoostingClassifier(n_estimators=55, learning_rate=0.14)\n",
    "model_final_test.fit(x_train, y_train)\n",
    "\n",
    "print(\"Accuracy: {:.2f}%\".format(model_final_test.score(x_test, y_test) * 100))\n",
    "\n",
    "predictions = model_final_test.predict(x_test)\n",
    "\n",
    "print(\"Confusion Matrix:\")\n",
    "print(confusion_matrix(y_test, predictions))\n",
    "\n",
    "print(\"Classification Report:\")\n",
    "print(classification_report(y_test, predictions))\n"
   ]
  },
  {
   "cell_type": "markdown",
   "id": "b70231bd",
   "metadata": {},
   "source": [
    "We can notice that it performed really well by predicting 4552 matches from a totally different server. With an accuracy of **88.60%**\n",
    "\n",
    "\n",
    "Finally we create a final model and save it for live games predictions with streamlit."
   ]
  },
  {
   "cell_type": "code",
   "execution_count": 11,
   "id": "5cfa08c3",
   "metadata": {},
   "outputs": [
    {
     "data": {
      "text/plain": [
       "['finalized_model.sav']"
      ]
     },
     "execution_count": 11,
     "metadata": {},
     "output_type": "execute_result"
    }
   ],
   "source": [
    "import joblib\n",
    "\n",
    "model_final = GradientBoostingClassifier(n_estimators=55, learning_rate=0.14)\n",
    "model_final.fit(X, Y)\n",
    "\n",
    "# save the model to disk\n",
    "filename = \"finalized_model.sav\"\n",
    "joblib.dump(model_final, filename)\n"
   ]
  }
 ],
 "metadata": {
  "kernelspec": {
   "display_name": "Python 3",
   "language": "python",
   "name": "python3"
  },
  "language_info": {
   "codemirror_mode": {
    "name": "ipython",
    "version": 3
   },
   "file_extension": ".py",
   "mimetype": "text/x-python",
   "name": "python",
   "nbconvert_exporter": "python",
   "pygments_lexer": "ipython3",
   "version": "3.12.0"
  }
 },
 "nbformat": 4,
 "nbformat_minor": 5
}
